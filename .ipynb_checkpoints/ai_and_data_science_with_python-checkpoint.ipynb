{
 "cells": [
  {
   "cell_type": "markdown",
   "id": "ad0ac1f3-448b-4d3f-bfd4-8dfee22fd522",
   "metadata": {},
   "source": [
    "# Using diferents machine learning models"
   ]
  },
  {
   "cell_type": "markdown",
   "id": "e393424a-6dc3-4ccc-9f45-93b94581613e",
   "metadata": {},
   "source": [
    "# Classification"
   ]
  },
  {
   "cell_type": "markdown",
   "id": "c569c50f-0889-4d08-b59f-3feca58f34a2",
   "metadata": {},
   "source": [
    "### Preparing the data"
   ]
  },
  {
   "cell_type": "code",
   "execution_count": 1,
   "id": "df785863-2350-46ae-9ebf-3a0881746f43",
   "metadata": {},
   "outputs": [],
   "source": [
    "import pandas as pd\n",
    "from sklearn.datasets import load_iris\n",
    "\n",
    "url = 'https://raw.githubusercontent.com/mwaskom/seaborn-data/master/iris.csv'\n",
    "iris = pd.read_csv(url)\n",
    "\n",
    "# iris = load_iris()\n",
    "# df = pd.DataFrame(iris.data, columns=iris.feature_names)"
   ]
  },
  {
   "cell_type": "code",
   "execution_count": 2,
   "id": "b8a6395e-7be1-462e-8d23-60b1f838a9c4",
   "metadata": {},
   "outputs": [
    {
     "data": {
      "text/html": [
       "<div>\n",
       "<style scoped>\n",
       "    .dataframe tbody tr th:only-of-type {\n",
       "        vertical-align: middle;\n",
       "    }\n",
       "\n",
       "    .dataframe tbody tr th {\n",
       "        vertical-align: top;\n",
       "    }\n",
       "\n",
       "    .dataframe thead th {\n",
       "        text-align: right;\n",
       "    }\n",
       "</style>\n",
       "<table border=\"1\" class=\"dataframe\">\n",
       "  <thead>\n",
       "    <tr style=\"text-align: right;\">\n",
       "      <th></th>\n",
       "      <th>sepal_length</th>\n",
       "      <th>sepal_width</th>\n",
       "      <th>petal_length</th>\n",
       "      <th>petal_width</th>\n",
       "      <th>species</th>\n",
       "    </tr>\n",
       "  </thead>\n",
       "  <tbody>\n",
       "    <tr>\n",
       "      <th>0</th>\n",
       "      <td>5.1</td>\n",
       "      <td>3.5</td>\n",
       "      <td>1.4</td>\n",
       "      <td>0.2</td>\n",
       "      <td>setosa</td>\n",
       "    </tr>\n",
       "    <tr>\n",
       "      <th>1</th>\n",
       "      <td>4.9</td>\n",
       "      <td>3.0</td>\n",
       "      <td>1.4</td>\n",
       "      <td>0.2</td>\n",
       "      <td>setosa</td>\n",
       "    </tr>\n",
       "    <tr>\n",
       "      <th>2</th>\n",
       "      <td>4.7</td>\n",
       "      <td>3.2</td>\n",
       "      <td>1.3</td>\n",
       "      <td>0.2</td>\n",
       "      <td>setosa</td>\n",
       "    </tr>\n",
       "    <tr>\n",
       "      <th>3</th>\n",
       "      <td>4.6</td>\n",
       "      <td>3.1</td>\n",
       "      <td>1.5</td>\n",
       "      <td>0.2</td>\n",
       "      <td>setosa</td>\n",
       "    </tr>\n",
       "    <tr>\n",
       "      <th>4</th>\n",
       "      <td>5.0</td>\n",
       "      <td>3.6</td>\n",
       "      <td>1.4</td>\n",
       "      <td>0.2</td>\n",
       "      <td>setosa</td>\n",
       "    </tr>\n",
       "  </tbody>\n",
       "</table>\n",
       "</div>"
      ],
      "text/plain": [
       "   sepal_length  sepal_width  petal_length  petal_width species\n",
       "0           5.1          3.5           1.4          0.2  setosa\n",
       "1           4.9          3.0           1.4          0.2  setosa\n",
       "2           4.7          3.2           1.3          0.2  setosa\n",
       "3           4.6          3.1           1.5          0.2  setosa\n",
       "4           5.0          3.6           1.4          0.2  setosa"
      ]
     },
     "execution_count": 2,
     "metadata": {},
     "output_type": "execute_result"
    }
   ],
   "source": [
    "iris.head()"
   ]
  },
  {
   "cell_type": "code",
   "execution_count": 3,
   "id": "0b0588a5-1c17-4499-850f-3198dcc477c6",
   "metadata": {},
   "outputs": [
    {
     "name": "stdout",
     "output_type": "stream",
     "text": [
      "(150, 5)\n",
      "sepal_length    float64\n",
      "sepal_width     float64\n",
      "petal_length    float64\n",
      "petal_width     float64\n",
      "species          object\n",
      "dtype: object\n"
     ]
    }
   ],
   "source": [
    "print(iris.shape)\n",
    "print(iris.dtypes)"
   ]
  },
  {
   "cell_type": "markdown",
   "id": "7360b379-da3e-4d62-830c-5dd6889f1e18",
   "metadata": {},
   "source": [
    "#### Note: In the class, the dataset was first transformed into an array, and then the attributes and classes were separated.\n",
    "In this example I am using `.iloc`.\n",
    "\n",
    "array = iris.values\n",
    "\n",
    "X = array[:, 0:4]\n",
    "\n",
    "y = array[:, 4]"
   ]
  },
  {
   "cell_type": "code",
   "execution_count": 4,
   "id": "85e1f9d7-09fd-44dd-b6df-92237a6b0c21",
   "metadata": {},
   "outputs": [
    {
     "data": {
      "text/plain": [
       "(   sepal_length  sepal_width  petal_length  petal_width\n",
       " 0           5.1          3.5           1.4          0.2\n",
       " 1           4.9          3.0           1.4          0.2\n",
       " 2           4.7          3.2           1.3          0.2\n",
       " 3           4.6          3.1           1.5          0.2\n",
       " 4           5.0          3.6           1.4          0.2,\n",
       " 0    setosa\n",
       " 1    setosa\n",
       " 2    setosa\n",
       " 3    setosa\n",
       " 4    setosa\n",
       " Name: species, dtype: object)"
      ]
     },
     "execution_count": 4,
     "metadata": {},
     "output_type": "execute_result"
    }
   ],
   "source": [
    "# separating features and targets\n",
    "\n",
    "# X = iris[[\"sepal_length\", \"sepal_width\", \"petal_length\", \"petal_width\"]]\n",
    "# y = iris[\"species\"]\n",
    "\n",
    "X = iris.iloc[:, 0:4]\n",
    "y = iris.iloc[:, -1] # -1 is refaring to the last column, I could use iris.iloc[:, 4] as well\n",
    "X.head(), y.head()"
   ]
  },
  {
   "cell_type": "code",
   "execution_count": 5,
   "id": "7c9325a0-7094-4949-85bb-faf469f13bc9",
   "metadata": {},
   "outputs": [],
   "source": [
    "# separating training and testing\n",
    "\n",
    "from sklearn.model_selection import train_test_split\n",
    "\n",
    "X_train, X_test, y_train, y_test = train_test_split(X, y, test_size=0.2, random_state=42)"
   ]
  },
  {
   "cell_type": "markdown",
   "id": "6702be6a-76eb-466d-a5ba-d13b00c25a83",
   "metadata": {},
   "source": [
    "### Using KFold for cross validation"
   ]
  },
  {
   "cell_type": "code",
   "execution_count": 8,
   "id": "a2d3552f-738d-4019-856e-1da7aefaadbf",
   "metadata": {},
   "outputs": [],
   "source": [
    "from sklearn.model_selection import KFold\n",
    "\n",
    "num_particoes = 3\n",
    "kfold = KFold(n_splits=num_particoes, shuffle=True, random_state=42)"
   ]
  },
  {
   "cell_type": "markdown",
   "id": "a97ebd45-6905-456e-9d65-68bccfa4e0b3",
   "metadata": {},
   "source": [
    "### Listing models to find the better one"
   ]
  },
  {
   "cell_type": "code",
   "execution_count": 10,
   "id": "faddfc19-948b-4b73-81dd-d801b71268db",
   "metadata": {},
   "outputs": [],
   "source": [
    "from sklearn.neighbors import KNeighborsClassifier\n",
    "from sklearn.tree import DecisionTreeClassifier\n",
    "from sklearn.naive_bayes import GaussianNB\n",
    "from sklearn.svm import SVC\n",
    "from sklearn.linear_model import LogisticRegression\n",
    "\n",
    "import numpy as np\n",
    "\n",
    "# random seed\n",
    "np.random.seed(42)\n",
    "\n",
    "# Listing the models, results and names\n",
    "\n",
    "models = []\n",
    "results = []\n",
    "names = []\n",
    "\n",
    "# adding models to the list\n",
    "\n",
    "models.append(('KNN', KNeighborsClassifier()))\n",
    "models.append(('DTree', DecisionTreeClassifier()))\n",
    "models.append(('NB', GaussianNB()))\n",
    "models.append(('SVM', SVC()))\n",
    "models.append(('LOGREG', LogisticRegression()))\n"
   ]
  },
  {
   "cell_type": "code",
   "execution_count": 12,
   "id": "adc6d0bb-c9ee-456e-85cf-b3b8425ae779",
   "metadata": {},
   "outputs": [
    {
     "data": {
      "text/plain": [
       "[('KNN', KNeighborsClassifier()),\n",
       " ('DTree', DecisionTreeClassifier()),\n",
       " ('NB', GaussianNB()),\n",
       " ('SVM', SVC()),\n",
       " ('LOGREG', LogisticRegression())]"
      ]
     },
     "execution_count": 12,
     "metadata": {},
     "output_type": "execute_result"
    }
   ],
   "source": [
    "models"
   ]
  },
  {
   "cell_type": "markdown",
   "id": "6b46efb1-0109-4165-bb41-321fc7b1c70f",
   "metadata": {},
   "source": [
    "# Models Execution"
   ]
  },
  {
   "cell_type": "code",
   "execution_count": null,
   "id": "dee86ace-4e15-4a93-87d2-c08af93968d4",
   "metadata": {},
   "outputs": [],
   "source": []
  }
 ],
 "metadata": {
  "kernelspec": {
   "display_name": "Python 3 (ipykernel)",
   "language": "python",
   "name": "python3"
  },
  "language_info": {
   "codemirror_mode": {
    "name": "ipython",
    "version": 3
   },
   "file_extension": ".py",
   "mimetype": "text/x-python",
   "name": "python",
   "nbconvert_exporter": "python",
   "pygments_lexer": "ipython3",
   "version": "3.12.3"
  }
 },
 "nbformat": 4,
 "nbformat_minor": 5
}
