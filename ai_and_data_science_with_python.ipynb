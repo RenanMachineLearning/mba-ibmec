{
 "cells": [
  {
   "cell_type": "markdown",
   "id": "ad0ac1f3-448b-4d3f-bfd4-8dfee22fd522",
   "metadata": {},
   "source": [
    "# Using diferents machine learning models"
   ]
  },
  {
   "cell_type": "markdown",
   "id": "e393424a-6dc3-4ccc-9f45-93b94581613e",
   "metadata": {},
   "source": [
    "# Classification"
   ]
  },
  {
   "cell_type": "markdown",
   "id": "c569c50f-0889-4d08-b59f-3feca58f34a2",
   "metadata": {},
   "source": [
    "### Preparing the data"
   ]
  },
  {
   "cell_type": "code",
   "execution_count": 114,
   "id": "df785863-2350-46ae-9ebf-3a0881746f43",
   "metadata": {},
   "outputs": [],
   "source": [
    "import warnings\n",
    "warnings.filterwarnings(\"ignore\")\n",
    "\n",
    "import pandas as pd\n",
    "from sklearn.datasets import load_iris\n",
    "\n",
    "url = 'https://raw.githubusercontent.com/mwaskom/seaborn-data/master/iris.csv'\n",
    "df = pd.read_csv(url)\n",
    "\n",
    "# iris = load_iris()\n",
    "# df = pd.DataFrame(iris.data, columns=iris.feature_names)"
   ]
  },
  {
   "cell_type": "code",
   "execution_count": 115,
   "id": "b8a6395e-7be1-462e-8d23-60b1f838a9c4",
   "metadata": {},
   "outputs": [
    {
     "data": {
      "text/html": [
       "<div>\n",
       "<style scoped>\n",
       "    .dataframe tbody tr th:only-of-type {\n",
       "        vertical-align: middle;\n",
       "    }\n",
       "\n",
       "    .dataframe tbody tr th {\n",
       "        vertical-align: top;\n",
       "    }\n",
       "\n",
       "    .dataframe thead th {\n",
       "        text-align: right;\n",
       "    }\n",
       "</style>\n",
       "<table border=\"1\" class=\"dataframe\">\n",
       "  <thead>\n",
       "    <tr style=\"text-align: right;\">\n",
       "      <th></th>\n",
       "      <th>sepal_length</th>\n",
       "      <th>sepal_width</th>\n",
       "      <th>petal_length</th>\n",
       "      <th>petal_width</th>\n",
       "      <th>species</th>\n",
       "    </tr>\n",
       "  </thead>\n",
       "  <tbody>\n",
       "    <tr>\n",
       "      <th>0</th>\n",
       "      <td>5.1</td>\n",
       "      <td>3.5</td>\n",
       "      <td>1.4</td>\n",
       "      <td>0.2</td>\n",
       "      <td>setosa</td>\n",
       "    </tr>\n",
       "    <tr>\n",
       "      <th>1</th>\n",
       "      <td>4.9</td>\n",
       "      <td>3.0</td>\n",
       "      <td>1.4</td>\n",
       "      <td>0.2</td>\n",
       "      <td>setosa</td>\n",
       "    </tr>\n",
       "    <tr>\n",
       "      <th>2</th>\n",
       "      <td>4.7</td>\n",
       "      <td>3.2</td>\n",
       "      <td>1.3</td>\n",
       "      <td>0.2</td>\n",
       "      <td>setosa</td>\n",
       "    </tr>\n",
       "    <tr>\n",
       "      <th>3</th>\n",
       "      <td>4.6</td>\n",
       "      <td>3.1</td>\n",
       "      <td>1.5</td>\n",
       "      <td>0.2</td>\n",
       "      <td>setosa</td>\n",
       "    </tr>\n",
       "    <tr>\n",
       "      <th>4</th>\n",
       "      <td>5.0</td>\n",
       "      <td>3.6</td>\n",
       "      <td>1.4</td>\n",
       "      <td>0.2</td>\n",
       "      <td>setosa</td>\n",
       "    </tr>\n",
       "  </tbody>\n",
       "</table>\n",
       "</div>"
      ],
      "text/plain": [
       "   sepal_length  sepal_width  petal_length  petal_width species\n",
       "0           5.1          3.5           1.4          0.2  setosa\n",
       "1           4.9          3.0           1.4          0.2  setosa\n",
       "2           4.7          3.2           1.3          0.2  setosa\n",
       "3           4.6          3.1           1.5          0.2  setosa\n",
       "4           5.0          3.6           1.4          0.2  setosa"
      ]
     },
     "execution_count": 115,
     "metadata": {},
     "output_type": "execute_result"
    }
   ],
   "source": [
    "df.head()"
   ]
  },
  {
   "cell_type": "code",
   "execution_count": 116,
   "id": "0b0588a5-1c17-4499-850f-3198dcc477c6",
   "metadata": {},
   "outputs": [
    {
     "name": "stdout",
     "output_type": "stream",
     "text": [
      "(150, 5)\n",
      "sepal_length    float64\n",
      "sepal_width     float64\n",
      "petal_length    float64\n",
      "petal_width     float64\n",
      "species          object\n",
      "dtype: object\n"
     ]
    }
   ],
   "source": [
    "print(df.shape)\n",
    "print(df.dtypes)"
   ]
  },
  {
   "cell_type": "code",
   "execution_count": 117,
   "id": "e35f29b9-4842-4108-9894-13d093b7d3c0",
   "metadata": {},
   "outputs": [],
   "source": [
    "import numpy as np\n",
    "\n",
    "np.random.seed(42)\n",
    "\n",
    "iris = df.sample(frac=1).reset_index(drop=True)"
   ]
  },
  {
   "cell_type": "code",
   "execution_count": 118,
   "id": "99b222ab-e4b0-42ee-a9c9-ca673ceeb920",
   "metadata": {},
   "outputs": [
    {
     "data": {
      "text/html": [
       "<div>\n",
       "<style scoped>\n",
       "    .dataframe tbody tr th:only-of-type {\n",
       "        vertical-align: middle;\n",
       "    }\n",
       "\n",
       "    .dataframe tbody tr th {\n",
       "        vertical-align: top;\n",
       "    }\n",
       "\n",
       "    .dataframe thead th {\n",
       "        text-align: right;\n",
       "    }\n",
       "</style>\n",
       "<table border=\"1\" class=\"dataframe\">\n",
       "  <thead>\n",
       "    <tr style=\"text-align: right;\">\n",
       "      <th></th>\n",
       "      <th>sepal_length</th>\n",
       "      <th>sepal_width</th>\n",
       "      <th>petal_length</th>\n",
       "      <th>petal_width</th>\n",
       "      <th>species</th>\n",
       "    </tr>\n",
       "  </thead>\n",
       "  <tbody>\n",
       "    <tr>\n",
       "      <th>0</th>\n",
       "      <td>6.1</td>\n",
       "      <td>2.8</td>\n",
       "      <td>4.7</td>\n",
       "      <td>1.2</td>\n",
       "      <td>versicolor</td>\n",
       "    </tr>\n",
       "    <tr>\n",
       "      <th>1</th>\n",
       "      <td>5.7</td>\n",
       "      <td>3.8</td>\n",
       "      <td>1.7</td>\n",
       "      <td>0.3</td>\n",
       "      <td>setosa</td>\n",
       "    </tr>\n",
       "    <tr>\n",
       "      <th>2</th>\n",
       "      <td>7.7</td>\n",
       "      <td>2.6</td>\n",
       "      <td>6.9</td>\n",
       "      <td>2.3</td>\n",
       "      <td>virginica</td>\n",
       "    </tr>\n",
       "    <tr>\n",
       "      <th>3</th>\n",
       "      <td>6.0</td>\n",
       "      <td>2.9</td>\n",
       "      <td>4.5</td>\n",
       "      <td>1.5</td>\n",
       "      <td>versicolor</td>\n",
       "    </tr>\n",
       "    <tr>\n",
       "      <th>4</th>\n",
       "      <td>6.8</td>\n",
       "      <td>2.8</td>\n",
       "      <td>4.8</td>\n",
       "      <td>1.4</td>\n",
       "      <td>versicolor</td>\n",
       "    </tr>\n",
       "    <tr>\n",
       "      <th>5</th>\n",
       "      <td>5.4</td>\n",
       "      <td>3.4</td>\n",
       "      <td>1.5</td>\n",
       "      <td>0.4</td>\n",
       "      <td>setosa</td>\n",
       "    </tr>\n",
       "    <tr>\n",
       "      <th>6</th>\n",
       "      <td>5.6</td>\n",
       "      <td>2.9</td>\n",
       "      <td>3.6</td>\n",
       "      <td>1.3</td>\n",
       "      <td>versicolor</td>\n",
       "    </tr>\n",
       "    <tr>\n",
       "      <th>7</th>\n",
       "      <td>6.9</td>\n",
       "      <td>3.1</td>\n",
       "      <td>5.1</td>\n",
       "      <td>2.3</td>\n",
       "      <td>virginica</td>\n",
       "    </tr>\n",
       "    <tr>\n",
       "      <th>8</th>\n",
       "      <td>6.2</td>\n",
       "      <td>2.2</td>\n",
       "      <td>4.5</td>\n",
       "      <td>1.5</td>\n",
       "      <td>versicolor</td>\n",
       "    </tr>\n",
       "    <tr>\n",
       "      <th>9</th>\n",
       "      <td>5.8</td>\n",
       "      <td>2.7</td>\n",
       "      <td>3.9</td>\n",
       "      <td>1.2</td>\n",
       "      <td>versicolor</td>\n",
       "    </tr>\n",
       "  </tbody>\n",
       "</table>\n",
       "</div>"
      ],
      "text/plain": [
       "   sepal_length  sepal_width  petal_length  petal_width     species\n",
       "0           6.1          2.8           4.7          1.2  versicolor\n",
       "1           5.7          3.8           1.7          0.3      setosa\n",
       "2           7.7          2.6           6.9          2.3   virginica\n",
       "3           6.0          2.9           4.5          1.5  versicolor\n",
       "4           6.8          2.8           4.8          1.4  versicolor\n",
       "5           5.4          3.4           1.5          0.4      setosa\n",
       "6           5.6          2.9           3.6          1.3  versicolor\n",
       "7           6.9          3.1           5.1          2.3   virginica\n",
       "8           6.2          2.2           4.5          1.5  versicolor\n",
       "9           5.8          2.7           3.9          1.2  versicolor"
      ]
     },
     "execution_count": 118,
     "metadata": {},
     "output_type": "execute_result"
    }
   ],
   "source": [
    "iris.head(10)"
   ]
  },
  {
   "cell_type": "code",
   "execution_count": 119,
   "id": "d22973dc-ca74-4714-ac20-e7f9ef9db6db",
   "metadata": {},
   "outputs": [
    {
     "data": {
      "image/png": "[encoded data removed]",
      "text/plain": [
       "<Figure size 1000x500 with 2 Axes>"
      ]
     },
     "metadata": {},
     "output_type": "display_data"
    }
   ],
   "source": [
    "# visualizing the data\n",
    "import matplotlib.pyplot as plt\n",
    "\n",
    "plt.figure(figsize=(10, 5))\n",
    "plt.subplot(121)\n",
    "plt.scatter(iris['sepal_length'], iris['sepal_width'], c=iris['species'].astype('category').cat.codes, cmap='viridis')\n",
    "plt.title('sepal size chart')\n",
    "plt.xlabel('sepal length')\n",
    "plt.ylabel('sepal width')\n",
    "\n",
    "plt.subplot(122)\n",
    "plt.scatter(iris['petal_length'], iris['petal_width'], c=iris['species'].astype('category').cat.codes, cmap='viridis')\n",
    "plt.title('petal size chart')\n",
    "plt.xlabel('petal length')\n",
    "plt.ylabel('petal width')\n",
    "\n",
    "plt.tight_layout()\n",
    "plt.show()"
   ]
  },
  {
   "cell_type": "markdown",
   "id": "7360b379-da3e-4d62-830c-5dd6889f1e18",
   "metadata": {},
   "source": [
    "#### Note: In the class, the dataset was first transformed into an array, and then the attributes and classes were separated.\n",
    "In this example I am using `.iloc`.\n",
    "\n",
    "array = iris.values\n",
    "\n",
    "X = array[:, 0:4]\n",
    "\n",
    "y = array[:, 4]"
   ]
  },
  {
   "cell_type": "code",
   "execution_count": 120,
   "id": "85e1f9d7-09fd-44dd-b6df-92237a6b0c21",
   "metadata": {},
   "outputs": [
    {
     "data": {
      "text/plain": [
       "(   sepal_length  sepal_width  petal_length  petal_width\n",
       " 0           6.1          2.8           4.7          1.2\n",
       " 1           5.7          3.8           1.7          0.3\n",
       " 2           7.7          2.6           6.9          2.3\n",
       " 3           6.0          2.9           4.5          1.5\n",
       " 4           6.8          2.8           4.8          1.4,\n",
       " 0    versicolor\n",
       " 1        setosa\n",
       " 2     virginica\n",
       " 3    versicolor\n",
       " 4    versicolor\n",
       " Name: species, dtype: object)"
      ]
     },
     "execution_count": 120,
     "metadata": {},
     "output_type": "execute_result"
    }
   ],
   "source": [
    "# separating features and targets\n",
    "\n",
    "# X = iris[[\"sepal_length\", \"sepal_width\", \"petal_length\", \"petal_width\"]]\n",
    "# y = iris[\"species\"]\n",
    "\n",
    "X = iris.iloc[:, 0:4]\n",
    "y = iris.iloc[:, -1] # -1 is refaring to the last column, I could use iris.iloc[:, 4] as well\n",
    "X.head(), y.head()"
   ]
  },
  {
   "cell_type": "code",
   "execution_count": 121,
   "id": "7c9325a0-7094-4949-85bb-faf469f13bc9",
   "metadata": {},
   "outputs": [],
   "source": [
    "# separating training and testing\n",
    "\n",
    "from sklearn.model_selection import train_test_split\n",
    "\n",
    "X_train, X_test, y_train, y_test = train_test_split(X, y, test_size=0.2, random_state=42)"
   ]
  },
  {
   "cell_type": "markdown",
   "id": "6702be6a-76eb-466d-a5ba-d13b00c25a83",
   "metadata": {},
   "source": [
    "### Using KFold for cross validation"
   ]
  },
  {
   "cell_type": "code",
   "execution_count": 122,
   "id": "a2d3552f-738d-4019-856e-1da7aefaadbf",
   "metadata": {},
   "outputs": [],
   "source": [
    "from sklearn.model_selection import KFold\n",
    "\n",
    "num_particoes = 3\n",
    "kfold = KFold(n_splits=num_particoes, shuffle=True, random_state=42)"
   ]
  },
  {
   "cell_type": "markdown",
   "id": "a97ebd45-6905-456e-9d65-68bccfa4e0b3",
   "metadata": {},
   "source": [
    "### Listing models to find the better one"
   ]
  },
  {
   "cell_type": "code",
   "execution_count": 123,
   "id": "faddfc19-948b-4b73-81dd-d801b71268db",
   "metadata": {},
   "outputs": [],
   "source": [
    "from sklearn.neighbors import KNeighborsClassifier\n",
    "from sklearn.tree import DecisionTreeClassifier\n",
    "from sklearn.naive_bayes import GaussianNB\n",
    "from sklearn.svm import SVC\n",
    "from sklearn.linear_model import LogisticRegression\n",
    "\n",
    "import numpy as np\n",
    "\n",
    "# random seed\n",
    "np.random.seed(42)\n",
    "\n",
    "# Listing the models, results and names\n",
    "\n",
    "models = []\n",
    "results = []\n",
    "names = []\n",
    "\n",
    "# adding models to the list\n",
    "\n",
    "models.append(('KNN', KNeighborsClassifier()))\n",
    "models.append(('DTree', DecisionTreeClassifier()))\n",
    "models.append(('NB', GaussianNB()))\n",
    "models.append(('SVM', SVC()))\n",
    "models.append(('LOGREG', LogisticRegression()))\n"
   ]
  },
  {
   "cell_type": "code",
   "execution_count": 124,
   "id": "adc6d0bb-c9ee-456e-85cf-b3b8425ae779",
   "metadata": {},
   "outputs": [
    {
     "data": {
      "text/plain": [
       "[('KNN', KNeighborsClassifier()),\n",
       " ('DTree', DecisionTreeClassifier()),\n",
       " ('NB', GaussianNB()),\n",
       " ('SVM', SVC()),\n",
       " ('LOGREG', LogisticRegression())]"
      ]
     },
     "execution_count": 124,
     "metadata": {},
     "output_type": "execute_result"
    }
   ],
   "source": [
    "models"
   ]
  },
  {
   "cell_type": "markdown",
   "id": "6b46efb1-0109-4165-bb41-321fc7b1c70f",
   "metadata": {},
   "source": [
    "### Models Execution"
   ]
  },
  {
   "cell_type": "code",
   "execution_count": 125,
   "id": "dee86ace-4e15-4a93-87d2-c08af93968d4",
   "metadata": {},
   "outputs": [
    {
     "name": "stdout",
     "output_type": "stream",
     "text": [
      "KNN: 0.941667 (0.023570)\n",
      "DTree: 0.900000 (0.035355)\n",
      "NB: 0.916667 (0.051370)\n",
      "SVM: 0.883333 (0.051370)\n",
      "LOGREG: 0.916667 (0.042492)\n"
     ]
    }
   ],
   "source": [
    "from sklearn.model_selection import cross_val_score\n",
    "\n",
    "for name, model in models:\n",
    "    cv_results = cross_val_score(model, X_train, y_train, cv=kfold, scoring='accuracy')\n",
    "    results.append(cv_results)\n",
    "    names.append(name)\n",
    "    msg = f\"{name}: {cv_results.mean():.6f} ({cv_results.std():.6f})\"\n",
    "    print(msg)"
   ]
  },
  {
   "cell_type": "code",
   "execution_count": 126,
   "id": "a985e9dc-d03d-4107-a215-8cc4fbab5d0b",
   "metadata": {},
   "outputs": [
    {
     "data": {
      "image/png": "[encoded data removed]",
      "text/plain": [
       "<Figure size 640x480 with 1 Axes>"
      ]
     },
     "metadata": {},
     "output_type": "display_data"
    }
   ],
   "source": [
    "import matplotlib.pyplot as plt\n",
    "\n",
    "plt.boxplot(results, labels=names)\n",
    "plt.title('Boxplot cross validation results')\n",
    "plt.ylabel('Acuraccy')\n",
    "plt.show()"
   ]
  },
  {
   "cell_type": "code",
   "execution_count": 127,
   "id": "78007801-732d-464a-bf3a-39ebd6b00466",
   "metadata": {},
   "outputs": [
    {
     "name": "stdout",
     "output_type": "stream",
     "text": [
      "1.0\n"
     ]
    }
   ],
   "source": [
    "from sklearn.metrics import accuracy_score\n",
    "\n",
    "# from sklearn.neighbors import KNeighborsClassifier (I aready imported the model)\n",
    "\n",
    "model = KNeighborsClassifier()\n",
    "\n",
    "# fitting the model\n",
    "model.fit(X_train, y_train)\n",
    "\n",
    "# making a prediction\n",
    "y_pred = model.predict(X_test)\n",
    "\n",
    "print(accuracy_score(y_test, y_pred))"
   ]
  },
  {
   "cell_type": "code",
   "execution_count": 128,
   "id": "5272358c-cfaa-4d2f-8cc8-0a43757d4f75",
   "metadata": {},
   "outputs": [],
   "source": [
    "# I'm getting three lines from my test data to simulate using teh new model\n",
    "X_sample = X_test.iloc[:3]"
   ]
  },
  {
   "cell_type": "code",
   "execution_count": 129,
   "id": "24dbf8ef-353b-452e-9524-ae08b081277e",
   "metadata": {},
   "outputs": [
    {
     "name": "stdout",
     "output_type": "stream",
     "text": [
      "     sepal_length  sepal_width  petal_length  petal_width\n",
      "73            5.8          2.7           5.1          1.9\n",
      "18            5.7          2.8           4.5          1.3\n",
      "118           5.7          2.6           3.5          1.0\n"
     ]
    }
   ],
   "source": [
    "print(X_sample)"
   ]
  },
  {
   "cell_type": "code",
   "execution_count": 130,
   "id": "6295491e-73a6-4741-9857-65958fb39e3b",
   "metadata": {},
   "outputs": [],
   "source": [
    "new_data = model.predict(X_sample)"
   ]
  },
  {
   "cell_type": "code",
   "execution_count": 131,
   "id": "6b819618-c2e9-4d49-955c-0a07fa57efd0",
   "metadata": {},
   "outputs": [
    {
     "data": {
      "text/plain": [
       "array(['virginica', 'versicolor', 'versicolor'], dtype=object)"
      ]
     },
     "execution_count": 131,
     "metadata": {},
     "output_type": "execute_result"
    }
   ],
   "source": [
    "new_data"
   ]
  },
  {
   "cell_type": "code",
   "execution_count": 132,
   "id": "c09fdb36-d41c-4ef2-8cfc-d3ba11d77bbf",
   "metadata": {},
   "outputs": [],
   "source": [
    "# making my own samples\n",
    "X_sample2 = pd.DataFrame([\n",
    "    [5.1, 3.5, 1.4, 0.2],\n",
    "    [6.2, 3.4, 5.4, 2.3],\n",
    "    [5.9, 3.0, 5.1, 1.8]\n",
    "], columns=['sepal_length', 'sepal_width', 'petal_length', 'petal_width'])"
   ]
  },
  {
   "cell_type": "code",
   "execution_count": 133,
   "id": "1f8d010f-65c3-4380-9740-d918aca58fd5",
   "metadata": {},
   "outputs": [
    {
     "data": {
      "text/plain": [
       "array(['setosa', 'virginica', 'virginica'], dtype=object)"
      ]
     },
     "execution_count": 133,
     "metadata": {},
     "output_type": "execute_result"
    }
   ],
   "source": [
    "# passing the samples to the model\n",
    "\n",
    "new_data = model.predict(X_sample2)\n",
    "new_data"
   ]
  },
  {
   "cell_type": "code",
   "execution_count": 134,
   "id": "c7e148fb-0e0a-42e3-b97e-47a4f56dd0ad",
   "metadata": {},
   "outputs": [
    {
     "data": {
      "text/plain": [
       "array(['virginica'], dtype=object)"
      ]
     },
     "execution_count": 134,
     "metadata": {},
     "output_type": "execute_result"
    }
   ],
   "source": [
    "# using just one sample to show that it needs 2 dim\n",
    "X_sample3 = pd.DataFrame([[6.2, 3.4, 5.4, 2.3]])\n",
    "\n",
    "new_data = model.predict(X_sample3)\n",
    "new_data"
   ]
  },
  {
   "cell_type": "markdown",
   "id": "8f82a9db-3831-4aa5-a2b9-58bb282b3e46",
   "metadata": {},
   "source": [
    "# Regression"
   ]
  },
  {
   "cell_type": "markdown",
   "id": "4c32611a-e9bd-46c6-b5d0-dff633b2758a",
   "metadata": {},
   "source": [
    "### Preparing the data"
   ]
  },
  {
   "cell_type": "markdown",
   "id": "2ed7d6fa-7592-49e1-bc56-aa0a33f9ca66",
   "metadata": {},
   "source": [
    "##### The goal is to teach the model to change Celsius degrees to Fahrenheit."
   ]
  },
  {
   "cell_type": "code",
   "execution_count": 235,
   "id": "02145253-1eec-4cfc-9e9d-f2c257a25765",
   "metadata": {},
   "outputs": [
    {
     "name": "stdout",
     "output_type": "stream",
     "text": [
      "float64\n",
      "dataset size = 200\n",
      "[13.5 34.2 26.4 21.6  5.6  5.6  2.1 31.2 21.6 25.5  0.7 34.9 30.   7.6\n",
      "  6.5  6.6 11.  18.9 15.6 10.5 22.   5.  10.5 13.2 16.4 28.3  7.2 18.5\n",
      " 21.3  1.7 21.9  6.1  2.3 34.2 34.8 29.1 11.   3.5 24.6 15.8  4.4 17.8\n",
      "  1.2 32.7  9.3 23.9 11.2 18.7 19.7  6.7 34.9 27.9 33.8 32.2 21.5 33.2\n",
      "  3.2  7.1  1.6 11.7 14.   9.8 29.8 12.8 10.1 19.5  5.1 28.9  2.7 35.5\n",
      " 27.8  7.2  0.2 29.4 25.4 26.2 27.8  2.7 12.9  4.2 31.1 22.4 11.9  2.3\n",
      " 11.2 11.7 26.3 23.  31.9 17.   4.3 25.7 27.4 20.2 27.8 17.8 18.8 15.4\n",
      "  0.9  3.9  1.1 22.9 11.3 18.3 32.7  9.  14.8 27.2  8.2  2.8 10.4  5.8\n",
      " 33.5 29.1 22.8 31.4 28.9  6.7 32.1 19.4 29.1 32.3 11.4  4.   8.2 15.4\n",
      " 29.4 31.   0.3 18.4 15.   8.   4.3 12.2 33.9 11.6 18.7 25.3 13.1 35.\n",
      " 34.6  9.1 17.9 10.8 10.3  1.3 21.9 18.1  1.9 10.  32.7  8.6  5.2 17.6\n",
      " 35.5  8.7 24.2 27.4  8.6 26.2 13.2 22.8 22.8 19.3  3.3 30.1 11.5  6.7\n",
      "  1.5 21.3 24.4  0.6 18.4  8.2 23.2  6.3 24.9 13.9 33.7  5.  12.3  4.1\n",
      " 33.3 31.6  9.3 23.8 29.4 20.  19.1  8.7  3.4 32.3 32.4 22.8 12.2 12.6\n",
      " 26.1 32.3 31.9 28.1]\n"
     ]
    }
   ],
   "source": [
    "import numpy as np\n",
    "\n",
    "# creating our Celsius data\n",
    "\n",
    "np.random.seed(42)\n",
    "data = np.array([round(np.random.uniform(0, 36), 1) for _ in range(200)], dtype=np.float64)\n",
    "print(data.dtype)\n",
    "print(\"dataset size =\", len(data))\n",
    "print(data)"
   ]
  },
  {
   "cell_type": "code",
   "execution_count": 236,
   "id": "c01345cb-fdc6-4b67-93ba-b2172880828d",
   "metadata": {},
   "outputs": [
    {
     "data": {
      "text/plain": [
       "array([56.3 , 93.56, 79.52, 70.88, 42.08, 42.08, 35.78, 88.16, 70.88,\n",
       "       77.9 , 33.26, 94.82, 86.  , 45.68, 43.7 , 43.88, 51.8 , 66.02,\n",
       "       60.08, 50.9 , 71.6 , 41.  , 50.9 , 55.76, 61.52, 82.94, 44.96,\n",
       "       65.3 , 70.34, 35.06, 71.42, 42.98, 36.14, 93.56, 94.64, 84.38,\n",
       "       51.8 , 38.3 , 76.28, 60.44, 39.92, 64.04, 34.16, 90.86, 48.74,\n",
       "       75.02, 52.16, 65.66, 67.46, 44.06, 94.82, 82.22, 92.84, 89.96,\n",
       "       70.7 , 91.76, 37.76, 44.78, 34.88, 53.06, 57.2 , 49.64, 85.64,\n",
       "       55.04, 50.18, 67.1 , 41.18, 84.02, 36.86, 95.9 , 82.04, 44.96,\n",
       "       32.36, 84.92, 77.72, 79.16, 82.04, 36.86, 55.22, 39.56, 87.98,\n",
       "       72.32, 53.42, 36.14, 52.16, 53.06, 79.34, 73.4 , 89.42, 62.6 ,\n",
       "       39.74, 78.26, 81.32, 68.36, 82.04, 64.04, 65.84, 59.72, 33.62,\n",
       "       39.02, 33.98, 73.22, 52.34, 64.94, 90.86, 48.2 , 58.64, 80.96,\n",
       "       46.76, 37.04, 50.72, 42.44, 92.3 , 84.38, 73.04, 88.52, 84.02,\n",
       "       44.06, 89.78, 66.92, 84.38, 90.14, 52.52, 39.2 , 46.76, 59.72,\n",
       "       84.92, 87.8 , 32.54, 65.12, 59.  , 46.4 , 39.74, 53.96, 93.02,\n",
       "       52.88, 65.66, 77.54, 55.58, 95.  , 94.28, 48.38, 64.22, 51.44,\n",
       "       50.54, 34.34, 71.42, 64.58, 35.42, 50.  , 90.86, 47.48, 41.36,\n",
       "       63.68, 95.9 , 47.66, 75.56, 81.32, 47.48, 79.16, 55.76, 73.04,\n",
       "       73.04, 66.74, 37.94, 86.18, 52.7 , 44.06, 34.7 , 70.34, 75.92,\n",
       "       33.08, 65.12, 46.76, 73.76, 43.34, 76.82, 57.02, 92.66, 41.  ,\n",
       "       54.14, 39.38, 91.94, 88.88, 48.74, 74.84, 84.92, 68.  , 66.38,\n",
       "       47.66, 38.12, 90.14, 90.32, 73.04, 53.96, 54.68, 78.98, 90.14,\n",
       "       89.42, 82.58])"
      ]
     },
     "execution_count": 236,
     "metadata": {},
     "output_type": "execute_result"
    }
   ],
   "source": [
    "# creating our Farenheits data\n",
    "labels = (9/5) * data +32\n",
    "\n",
    "labels"
   ]
  },
  {
   "cell_type": "code",
   "execution_count": 237,
   "id": "8ec2fbd6-b706-4ec1-8f38-ae5236457ef9",
   "metadata": {},
   "outputs": [
    {
     "name": "stdout",
     "output_type": "stream",
     "text": [
      "   Celsius  Fahrenheit\n",
      "0     13.5       56.30\n",
      "1     34.2       93.56\n",
      "2     26.4       79.52\n",
      "3     21.6       70.88\n",
      "4      5.6       42.08\n",
      "5      5.6       42.08\n",
      "6      2.1       35.78\n",
      "7     31.2       88.16\n",
      "8     21.6       70.88\n",
      "9     25.5       77.90\n"
     ]
    }
   ],
   "source": [
    "import pandas as pd\n",
    "\n",
    "# creating the dataframe\n",
    "\n",
    "df = pd.DataFrame({\n",
    "    'Celsius': data,\n",
    "    'Fahrenheit': labels\n",
    "})\n",
    "\n",
    "print(df.head(10))"
   ]
  },
  {
   "cell_type": "code",
   "execution_count": 238,
   "id": "b1c89599-6607-41a2-831d-651d0fa6a1af",
   "metadata": {},
   "outputs": [
    {
     "data": {
      "text/plain": [
       "(200, 200)"
      ]
     },
     "execution_count": 238,
     "metadata": {},
     "output_type": "execute_result"
    }
   ],
   "source": [
    "len(df['Celsius']), len(df['Fahrenheit'])"
   ]
  },
  {
   "cell_type": "code",
   "execution_count": 239,
   "id": "61b4d86f-8119-4d10-8eb3-ef8f9f02b398",
   "metadata": {},
   "outputs": [
    {
     "data": {
      "text/plain": [
       "((200, 1), (200,))"
      ]
     },
     "execution_count": 239,
     "metadata": {},
     "output_type": "execute_result"
    }
   ],
   "source": [
    "X = df.iloc[:, 0]\n",
    "y = df.iloc[:, 1]\n",
    "\n",
    "X = np.expand_dims(X, axis=-1)\n",
    "# or i could use X = X.reshape(-1, 1)\n",
    "\n",
    "X.shape, df['Celsius'].shape"
   ]
  },
  {
   "cell_type": "code",
   "execution_count": 240,
   "id": "8a107c66-cac9-4ff2-90e4-3c11f27f8c4a",
   "metadata": {},
   "outputs": [
    {
     "data": {
      "image/png": "[encoded data removed]",
      "text/plain": [
       "<Figure size 800x600 with 1 Axes>"
      ]
     },
     "metadata": {},
     "output_type": "display_data"
    }
   ],
   "source": [
    "import matplotlib.pyplot as plt\n",
    "\n",
    "plt.figure(figsize=(8, 6))\n",
    "plt.scatter(X, y)\n",
    "plt.title('temperatures in degrees')\n",
    "plt.xlabel('temperature in Celsius')\n",
    "plt.ylabel('temperature in Fahrenheit')\n",
    "\n",
    "plt.show()"
   ]
  },
  {
   "cell_type": "code",
   "execution_count": 241,
   "id": "e4b4febc-6ed1-4b72-b97c-2b900e3afa1c",
   "metadata": {},
   "outputs": [
    {
     "data": {
      "text/plain": [
       "(160, 1)"
      ]
     },
     "execution_count": 241,
     "metadata": {},
     "output_type": "execute_result"
    }
   ],
   "source": [
    "from sklearn.model_selection import train_test_split\n",
    "\n",
    "X_train, X_test, y_train, y_test = train_test_split(X, y, test_size=0.2, random_state=42)\n",
    "X_train.shape"
   ]
  },
  {
   "cell_type": "markdown",
   "id": "8b1abac8-e387-4175-b86b-43d910b7b7bb",
   "metadata": {},
   "source": [
    "### Testing models with KFold"
   ]
  },
  {
   "cell_type": "code",
   "execution_count": 242,
   "id": "0070b816-4fd8-423a-b365-0d24910c910b",
   "metadata": {},
   "outputs": [],
   "source": [
    "from sklearn.model_selection import KFold\n",
    "\n",
    "n_folds = 10\n",
    "kfold = KFold(n_splits = n_folds, shuffle=True, random_state=42)"
   ]
  },
  {
   "cell_type": "code",
   "execution_count": 243,
   "id": "dcd41fb4-4649-4bc7-ad2e-a4a4fb6bedac",
   "metadata": {},
   "outputs": [],
   "source": [
    "from sklearn.neighbors import KNeighborsRegressor\n",
    "from sklearn.tree import DecisionTreeRegressor\n",
    "from sklearn.svm import SVR\n",
    "from sklearn.linear_model import LinearRegression\n",
    "# regularization functions\n",
    "from sklearn.linear_model import Lasso\n",
    "from sklearn.linear_model import Ridge\n",
    "\n",
    "np.random.seed(42)\n",
    "\n",
    "models = []\n",
    "results = []\n",
    "names = []\n",
    "\n",
    "models.append(('KNN', KNeighborsRegressor()))\n",
    "models.append(('Tree', DecisionTreeRegressor()))\n",
    "models.append(('SVR', SVR()))\n",
    "models.append(('LR', LinearRegression()))\n",
    "models.append(('Lasso', Lasso()))\n",
    "models.append(('Ridge', Ridge()))"
   ]
  },
  {
   "cell_type": "code",
   "execution_count": 244,
   "id": "1f999478-3d1e-4c8a-b051-d045c2f81f2c",
   "metadata": {},
   "outputs": [
    {
     "name": "stdout",
     "output_type": "stream",
     "text": [
      "KNN: MSE 0.170 (0.106) - RMSE 0.413\n",
      "Tree: MSE 0.106 (0.043) - RMSE 0.326\n",
      "SVR: MSE 10.268 (5.663) - RMSE 3.204\n",
      "LR: MSE 0.000 (0.000) - RMSE 0.000\n",
      "Lasso: MSE 0.009 (0.003) - RMSE 0.096\n",
      "Ridge: MSE 0.000 (0.000) - RMSE 0.001\n"
     ]
    }
   ],
   "source": [
    "from sklearn.model_selection import cross_val_score\n",
    "from sklearn.metrics import mean_squared_error\n",
    "# making the models iterations one by one\n",
    "\n",
    "for name, model in models:\n",
    "    cv_results = cross_val_score(model, X_train, y_train, cv=kfold, scoring=\"neg_mean_squared_error\")\n",
    "    results.append(cv_results)\n",
    "    names.append(name)\n",
    "    msg = f\"{name}: MSE {abs(cv_results.mean()):.3f} ({cv_results.std():.3f}) - RMSE {np.sqrt(abs(cv_results.mean())):.3f}\"\n",
    "    print(msg)"
   ]
  },
  {
   "cell_type": "code",
   "execution_count": 246,
   "id": "796919a2-360f-4cb3-8ab9-bca2eb24573b",
   "metadata": {},
   "outputs": [
    {
     "name": "stdout",
     "output_type": "stream",
     "text": [
      "0.0\n"
     ]
    }
   ],
   "source": [
    "model = LinearRegression()\n",
    "\n",
    "model.fit(X_train, y_train)\n",
    "y_pred = model.predict(X_test)\n",
    "mse = mean_squared_error(y_test, y_pred)\n",
    "\n",
    "print(mse)"
   ]
  },
  {
   "cell_type": "code",
   "execution_count": 259,
   "id": "dd7af86d-15d8-48bd-b6d6-4b7161b96ada",
   "metadata": {},
   "outputs": [
    {
     "data": {
      "text/plain": [
       "array([96.8])"
      ]
     },
     "execution_count": 259,
     "metadata": {},
     "output_type": "execute_result"
    }
   ],
   "source": [
    "result = model.predict([[36]])\n",
    "result"
   ]
  },
  {
   "cell_type": "code",
   "execution_count": null,
   "id": "969bcc43-0c00-4e8c-946a-e66badd66f98",
   "metadata": {},
   "outputs": [],
   "source": []
  }
 ],
 "metadata": {
  "kernelspec": {
   "display_name": "Python 3 (ipykernel)",
   "language": "python",
   "name": "python3"
  },
  "language_info": {
   "codemirror_mode": {
    "name": "ipython",
    "version": 3
   },
   "file_extension": ".py",
   "mimetype": "text/x-python",
   "name": "python",
   "nbconvert_exporter": "python",
   "pygments_lexer": "ipython3",
   "version": "3.12.3"
  }
 },
 "nbformat": 4,
 "nbformat_minor": 5
}
