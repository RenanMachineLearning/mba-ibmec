{
 "cells": [
  {
   "cell_type": "markdown",
   "id": "ad0ac1f3-448b-4d3f-bfd4-8dfee22fd522",
   "metadata": {},
   "source": [
    "# Using diferents machine learning models"
   ]
  },
  {
   "cell_type": "markdown",
   "id": "e393424a-6dc3-4ccc-9f45-93b94581613e",
   "metadata": {},
   "source": [
    "# Classification"
   ]
  },
  {
   "cell_type": "markdown",
   "id": "c569c50f-0889-4d08-b59f-3feca58f34a2",
   "metadata": {},
   "source": [
    "### Preparing the data"
   ]
  },
  {
   "cell_type": "code",
<<<<<<< HEAD
   "execution_count": 9,
=======
   "execution_count": 66,
>>>>>>> main
   "id": "df785863-2350-46ae-9ebf-3a0881746f43",
   "metadata": {},
   "outputs": [],
   "source": [
    "import warnings\n",
    "warnings.filterwarnings(\"ignore\")\n",
    "\n",
    "import pandas as pd\n",
    "from sklearn.datasets import load_iris\n",
    "\n",
    "url = 'https://raw.githubusercontent.com/mwaskom/seaborn-data/master/iris.csv'\n",
    "df = pd.read_csv(url)\n",
    "\n",
    "# iris = load_iris()\n",
    "# df = pd.DataFrame(iris.data, columns=iris.feature_names)"
   ]
  },
  {
   "cell_type": "code",
<<<<<<< HEAD
   "execution_count": 10,
=======
   "execution_count": 67,
>>>>>>> main
   "id": "b8a6395e-7be1-462e-8d23-60b1f838a9c4",
   "metadata": {},
   "outputs": [
    {
     "data": {
      "text/html": [
       "<div>\n",
       "<style scoped>\n",
       "    .dataframe tbody tr th:only-of-type {\n",
       "        vertical-align: middle;\n",
       "    }\n",
       "\n",
       "    .dataframe tbody tr th {\n",
       "        vertical-align: top;\n",
       "    }\n",
       "\n",
       "    .dataframe thead th {\n",
       "        text-align: right;\n",
       "    }\n",
       "</style>\n",
       "<table border=\"1\" class=\"dataframe\">\n",
       "  <thead>\n",
       "    <tr style=\"text-align: right;\">\n",
       "      <th></th>\n",
       "      <th>sepal_length</th>\n",
       "      <th>sepal_width</th>\n",
       "      <th>petal_length</th>\n",
       "      <th>petal_width</th>\n",
       "      <th>species</th>\n",
       "    </tr>\n",
       "  </thead>\n",
       "  <tbody>\n",
       "    <tr>\n",
       "      <th>0</th>\n",
       "      <td>5.1</td>\n",
       "      <td>3.5</td>\n",
       "      <td>1.4</td>\n",
       "      <td>0.2</td>\n",
       "      <td>setosa</td>\n",
       "    </tr>\n",
       "    <tr>\n",
       "      <th>1</th>\n",
       "      <td>4.9</td>\n",
       "      <td>3.0</td>\n",
       "      <td>1.4</td>\n",
       "      <td>0.2</td>\n",
       "      <td>setosa</td>\n",
       "    </tr>\n",
       "    <tr>\n",
       "      <th>2</th>\n",
       "      <td>4.7</td>\n",
       "      <td>3.2</td>\n",
       "      <td>1.3</td>\n",
       "      <td>0.2</td>\n",
       "      <td>setosa</td>\n",
       "    </tr>\n",
       "    <tr>\n",
       "      <th>3</th>\n",
       "      <td>4.6</td>\n",
       "      <td>3.1</td>\n",
       "      <td>1.5</td>\n",
       "      <td>0.2</td>\n",
       "      <td>setosa</td>\n",
       "    </tr>\n",
       "    <tr>\n",
       "      <th>4</th>\n",
       "      <td>5.0</td>\n",
       "      <td>3.6</td>\n",
       "      <td>1.4</td>\n",
       "      <td>0.2</td>\n",
       "      <td>setosa</td>\n",
       "    </tr>\n",
       "  </tbody>\n",
       "</table>\n",
       "</div>"
      ],
      "text/plain": [
       "   sepal_length  sepal_width  petal_length  petal_width species\n",
       "0           5.1          3.5           1.4          0.2  setosa\n",
       "1           4.9          3.0           1.4          0.2  setosa\n",
       "2           4.7          3.2           1.3          0.2  setosa\n",
       "3           4.6          3.1           1.5          0.2  setosa\n",
       "4           5.0          3.6           1.4          0.2  setosa"
      ]
     },
<<<<<<< HEAD
     "execution_count": 10,
=======
     "execution_count": 67,
>>>>>>> main
     "metadata": {},
     "output_type": "execute_result"
    }
   ],
   "source": [
    "df.head()"
   ]
  },
  {
   "cell_type": "code",
<<<<<<< HEAD
   "execution_count": 11,
=======
   "execution_count": 68,
>>>>>>> main
   "id": "0b0588a5-1c17-4499-850f-3198dcc477c6",
   "metadata": {},
   "outputs": [
    {
     "name": "stdout",
     "output_type": "stream",
     "text": [
      "(150, 5)\n",
      "sepal_length    float64\n",
      "sepal_width     float64\n",
      "petal_length    float64\n",
      "petal_width     float64\n",
      "species          object\n",
      "dtype: object\n"
     ]
    }
   ],
   "source": [
    "print(df.shape)\n",
    "print(df.dtypes)"
   ]
  },
  {
   "cell_type": "code",
<<<<<<< HEAD
   "execution_count": 12,
=======
   "execution_count": 69,
>>>>>>> main
   "id": "e35f29b9-4842-4108-9894-13d093b7d3c0",
   "metadata": {},
   "outputs": [],
   "source": [
<<<<<<< HEAD
    "import numpy as np\n",
=======
>>>>>>> main
    "np.random.seed(42)\n",
    "\n",
    "iris = df.sample(frac=1).reset_index(drop=True)"
   ]
  },
  {
   "cell_type": "code",
<<<<<<< HEAD
   "execution_count": 13,
=======
   "execution_count": 70,
>>>>>>> main
   "id": "99b222ab-e4b0-42ee-a9c9-ca673ceeb920",
   "metadata": {},
   "outputs": [
    {
     "data": {
      "text/html": [
       "<div>\n",
       "<style scoped>\n",
       "    .dataframe tbody tr th:only-of-type {\n",
       "        vertical-align: middle;\n",
       "    }\n",
       "\n",
       "    .dataframe tbody tr th {\n",
       "        vertical-align: top;\n",
       "    }\n",
       "\n",
       "    .dataframe thead th {\n",
       "        text-align: right;\n",
       "    }\n",
       "</style>\n",
       "<table border=\"1\" class=\"dataframe\">\n",
       "  <thead>\n",
       "    <tr style=\"text-align: right;\">\n",
       "      <th></th>\n",
       "      <th>sepal_length</th>\n",
       "      <th>sepal_width</th>\n",
       "      <th>petal_length</th>\n",
       "      <th>petal_width</th>\n",
       "      <th>species</th>\n",
       "    </tr>\n",
       "  </thead>\n",
       "  <tbody>\n",
       "    <tr>\n",
       "      <th>0</th>\n",
       "      <td>6.1</td>\n",
       "      <td>2.8</td>\n",
       "      <td>4.7</td>\n",
       "      <td>1.2</td>\n",
       "      <td>versicolor</td>\n",
       "    </tr>\n",
       "    <tr>\n",
       "      <th>1</th>\n",
       "      <td>5.7</td>\n",
       "      <td>3.8</td>\n",
       "      <td>1.7</td>\n",
       "      <td>0.3</td>\n",
       "      <td>setosa</td>\n",
       "    </tr>\n",
       "    <tr>\n",
       "      <th>2</th>\n",
       "      <td>7.7</td>\n",
       "      <td>2.6</td>\n",
       "      <td>6.9</td>\n",
       "      <td>2.3</td>\n",
       "      <td>virginica</td>\n",
       "    </tr>\n",
       "    <tr>\n",
       "      <th>3</th>\n",
       "      <td>6.0</td>\n",
       "      <td>2.9</td>\n",
       "      <td>4.5</td>\n",
       "      <td>1.5</td>\n",
       "      <td>versicolor</td>\n",
       "    </tr>\n",
       "    <tr>\n",
       "      <th>4</th>\n",
       "      <td>6.8</td>\n",
       "      <td>2.8</td>\n",
       "      <td>4.8</td>\n",
       "      <td>1.4</td>\n",
       "      <td>versicolor</td>\n",
       "    </tr>\n",
       "    <tr>\n",
       "      <th>5</th>\n",
       "      <td>5.4</td>\n",
       "      <td>3.4</td>\n",
       "      <td>1.5</td>\n",
       "      <td>0.4</td>\n",
       "      <td>setosa</td>\n",
       "    </tr>\n",
       "    <tr>\n",
       "      <th>6</th>\n",
       "      <td>5.6</td>\n",
       "      <td>2.9</td>\n",
       "      <td>3.6</td>\n",
       "      <td>1.3</td>\n",
       "      <td>versicolor</td>\n",
       "    </tr>\n",
       "    <tr>\n",
       "      <th>7</th>\n",
       "      <td>6.9</td>\n",
       "      <td>3.1</td>\n",
       "      <td>5.1</td>\n",
       "      <td>2.3</td>\n",
       "      <td>virginica</td>\n",
       "    </tr>\n",
       "    <tr>\n",
       "      <th>8</th>\n",
       "      <td>6.2</td>\n",
       "      <td>2.2</td>\n",
       "      <td>4.5</td>\n",
       "      <td>1.5</td>\n",
       "      <td>versicolor</td>\n",
       "    </tr>\n",
       "    <tr>\n",
       "      <th>9</th>\n",
       "      <td>5.8</td>\n",
       "      <td>2.7</td>\n",
       "      <td>3.9</td>\n",
       "      <td>1.2</td>\n",
       "      <td>versicolor</td>\n",
       "    </tr>\n",
       "  </tbody>\n",
       "</table>\n",
       "</div>"
      ],
      "text/plain": [
       "   sepal_length  sepal_width  petal_length  petal_width     species\n",
       "0           6.1          2.8           4.7          1.2  versicolor\n",
       "1           5.7          3.8           1.7          0.3      setosa\n",
       "2           7.7          2.6           6.9          2.3   virginica\n",
       "3           6.0          2.9           4.5          1.5  versicolor\n",
       "4           6.8          2.8           4.8          1.4  versicolor\n",
       "5           5.4          3.4           1.5          0.4      setosa\n",
       "6           5.6          2.9           3.6          1.3  versicolor\n",
       "7           6.9          3.1           5.1          2.3   virginica\n",
       "8           6.2          2.2           4.5          1.5  versicolor\n",
       "9           5.8          2.7           3.9          1.2  versicolor"
      ]
     },
<<<<<<< HEAD
     "execution_count": 13,
=======
     "execution_count": 70,
>>>>>>> main
     "metadata": {},
     "output_type": "execute_result"
    }
   ],
   "source": [
    "iris.head(10)"
   ]
  },
  {
   "cell_type": "markdown",
   "id": "7360b379-da3e-4d62-830c-5dd6889f1e18",
   "metadata": {},
   "source": [
    "#### Note: In the class, the dataset was first transformed into an array, and then the attributes and classes were separated.\n",
    "In this example I am using `.iloc`.\n",
    "\n",
    "array = iris.values\n",
    "\n",
    "X = array[:, 0:4]\n",
    "\n",
    "y = array[:, 4]"
   ]
  },
  {
   "cell_type": "code",
<<<<<<< HEAD
   "execution_count": 14,
=======
   "execution_count": 71,
>>>>>>> main
   "id": "85e1f9d7-09fd-44dd-b6df-92237a6b0c21",
   "metadata": {},
   "outputs": [
    {
     "data": {
      "text/plain": [
       "(   sepal_length  sepal_width  petal_length  petal_width\n",
       " 0           6.1          2.8           4.7          1.2\n",
       " 1           5.7          3.8           1.7          0.3\n",
       " 2           7.7          2.6           6.9          2.3\n",
       " 3           6.0          2.9           4.5          1.5\n",
       " 4           6.8          2.8           4.8          1.4,\n",
       " 0    versicolor\n",
       " 1        setosa\n",
       " 2     virginica\n",
       " 3    versicolor\n",
       " 4    versicolor\n",
       " Name: species, dtype: object)"
      ]
     },
<<<<<<< HEAD
     "execution_count": 14,
=======
     "execution_count": 71,
>>>>>>> main
     "metadata": {},
     "output_type": "execute_result"
    }
   ],
   "source": [
    "# separating features and targets\n",
    "\n",
    "# X = iris[[\"sepal_length\", \"sepal_width\", \"petal_length\", \"petal_width\"]]\n",
    "# y = iris[\"species\"]\n",
    "\n",
    "X = iris.iloc[:, 0:4]\n",
    "y = iris.iloc[:, -1] # -1 is refaring to the last column, I could use iris.iloc[:, 4] as well\n",
    "X.head(), y.head()"
   ]
  },
  {
   "cell_type": "code",
<<<<<<< HEAD
   "execution_count": 15,
=======
   "execution_count": 72,
>>>>>>> main
   "id": "7c9325a0-7094-4949-85bb-faf469f13bc9",
   "metadata": {},
   "outputs": [],
   "source": [
    "# separating training and testing\n",
    "\n",
    "from sklearn.model_selection import train_test_split\n",
    "\n",
    "X_train, X_test, y_train, y_test = train_test_split(X, y, test_size=0.2, random_state=42)"
   ]
  },
  {
   "cell_type": "markdown",
   "id": "6702be6a-76eb-466d-a5ba-d13b00c25a83",
   "metadata": {},
   "source": [
    "### Using KFold for cross validation"
   ]
  },
  {
   "cell_type": "code",
<<<<<<< HEAD
   "execution_count": 16,
=======
   "execution_count": 73,
>>>>>>> main
   "id": "a2d3552f-738d-4019-856e-1da7aefaadbf",
   "metadata": {},
   "outputs": [],
   "source": [
    "from sklearn.model_selection import KFold\n",
    "\n",
    "num_particoes = 3\n",
    "kfold = KFold(n_splits=num_particoes, shuffle=True, random_state=42)"
   ]
  },
  {
   "cell_type": "markdown",
   "id": "a97ebd45-6905-456e-9d65-68bccfa4e0b3",
   "metadata": {},
   "source": [
    "### Listing models to find the better one"
   ]
  },
  {
   "cell_type": "code",
<<<<<<< HEAD
   "execution_count": 17,
=======
   "execution_count": 74,
>>>>>>> main
   "id": "faddfc19-948b-4b73-81dd-d801b71268db",
   "metadata": {},
   "outputs": [],
   "source": [
    "from sklearn.neighbors import KNeighborsClassifier\n",
    "from sklearn.tree import DecisionTreeClassifier\n",
    "from sklearn.naive_bayes import GaussianNB\n",
    "from sklearn.svm import SVC\n",
    "from sklearn.linear_model import LogisticRegression\n",
    "\n",
    "import numpy as np\n",
    "\n",
    "# random seed\n",
    "np.random.seed(42)\n",
    "\n",
    "# Listing the models, results and names\n",
    "\n",
    "models = []\n",
    "results = []\n",
    "names = []\n",
    "\n",
    "# adding models to the list\n",
    "\n",
    "models.append(('KNN', KNeighborsClassifier()))\n",
    "models.append(('DTree', DecisionTreeClassifier()))\n",
    "models.append(('NB', GaussianNB()))\n",
    "models.append(('SVM', SVC()))\n",
    "models.append(('LOGREG', LogisticRegression()))\n"
   ]
  },
  {
   "cell_type": "code",
<<<<<<< HEAD
   "execution_count": 18,
=======
   "execution_count": 75,
>>>>>>> main
   "id": "adc6d0bb-c9ee-456e-85cf-b3b8425ae779",
   "metadata": {},
   "outputs": [
    {
     "data": {
      "text/plain": [
       "[('KNN', KNeighborsClassifier()),\n",
       " ('DTree', DecisionTreeClassifier()),\n",
       " ('NB', GaussianNB()),\n",
       " ('SVM', SVC()),\n",
       " ('LOGREG', LogisticRegression())]"
      ]
     },
<<<<<<< HEAD
     "execution_count": 18,
=======
     "execution_count": 75,
>>>>>>> main
     "metadata": {},
     "output_type": "execute_result"
    }
   ],
   "source": [
    "models"
   ]
  },
  {
   "cell_type": "markdown",
   "id": "6b46efb1-0109-4165-bb41-321fc7b1c70f",
   "metadata": {},
   "source": [
<<<<<<< HEAD
    "### Models Execution"
=======
    "# Models Execution"
>>>>>>> main
   ]
  },
  {
   "cell_type": "code",
<<<<<<< HEAD
   "execution_count": 19,
=======
   "execution_count": 76,
>>>>>>> main
   "id": "dee86ace-4e15-4a93-87d2-c08af93968d4",
   "metadata": {},
   "outputs": [
    {
     "name": "stdout",
     "output_type": "stream",
     "text": [
      "KNN: 0.941667 (0.023570)\n",
      "DTree: 0.900000 (0.035355)\n",
      "NB: 0.916667 (0.051370)\n",
      "SVM: 0.883333 (0.051370)\n",
      "LOGREG: 0.916667 (0.042492)\n"
     ]
    }
   ],
   "source": [
    "from sklearn.model_selection import cross_val_score\n",
    "\n",
    "for name, model in models:\n",
    "    cv_results = cross_val_score(model, X_train, y_train, cv=kfold, scoring='accuracy')\n",
    "    results.append(cv_results)\n",
    "    names.append(name)\n",
    "    msg = f\"{name}: {cv_results.mean():.6f} ({cv_results.std():.6f})\"\n",
    "    print(msg)"
   ]
  },
  {
   "cell_type": "code",
<<<<<<< HEAD
   "execution_count": 20,
=======
   "execution_count": 77,
>>>>>>> main
   "id": "a985e9dc-d03d-4107-a215-8cc4fbab5d0b",
   "metadata": {},
   "outputs": [
    {
     "data": {
      "image/png": "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",
      "text/plain": [
       "<Figure size 640x480 with 1 Axes>"
      ]
     },
     "metadata": {},
     "output_type": "display_data"
    }
   ],
   "source": [
    "import matplotlib.pyplot as plt\n",
    "\n",
    "plt.boxplot(results, labels=names)\n",
    "plt.title('Boxplot cross validation results')\n",
    "plt.ylabel('Acuraccy')\n",
    "plt.show()"
   ]
  },
  {
   "cell_type": "code",
<<<<<<< HEAD
   "execution_count": 21,
=======
   "execution_count": 79,
>>>>>>> main
   "id": "78007801-732d-464a-bf3a-39ebd6b00466",
   "metadata": {},
   "outputs": [
    {
     "name": "stdout",
     "output_type": "stream",
     "text": [
      "1.0\n"
     ]
    }
   ],
   "source": [
    "from sklearn.metrics import accuracy_score\n",
    "\n",
    "# from sklearn.neighbors import KNeighborsClassifier (I aready imported the model)\n",
    "\n",
    "model = KNeighborsClassifier()\n",
    "\n",
    "# fitting the model\n",
    "model.fit(X_train, y_train)\n",
    "\n",
    "# making a prediction\n",
    "y_pred = model.predict(X_test)\n",
    "\n",
    "print(accuracy_score(y_test, y_pred))"
   ]
  },
  {
   "cell_type": "code",
<<<<<<< HEAD
   "execution_count": 22,
=======
   "execution_count": 120,
>>>>>>> main
   "id": "5272358c-cfaa-4d2f-8cc8-0a43757d4f75",
   "metadata": {},
   "outputs": [],
   "source": [
    "# I'm getting three lines from my test data to simulate using teh new model\n",
    "X_sample = X_test.iloc[:3]"
   ]
  },
  {
   "cell_type": "code",
<<<<<<< HEAD
   "execution_count": 23,
=======
   "execution_count": 121,
>>>>>>> main
   "id": "24dbf8ef-353b-452e-9524-ae08b081277e",
   "metadata": {},
   "outputs": [
    {
     "name": "stdout",
     "output_type": "stream",
     "text": [
      "     sepal_length  sepal_width  petal_length  petal_width\n",
      "73            5.8          2.7           5.1          1.9\n",
      "18            5.7          2.8           4.5          1.3\n",
      "118           5.7          2.6           3.5          1.0\n"
     ]
    }
   ],
   "source": [
    "print(X_sample)"
   ]
  },
  {
   "cell_type": "code",
<<<<<<< HEAD
   "execution_count": 24,
=======
   "execution_count": 122,
>>>>>>> main
   "id": "6295491e-73a6-4741-9857-65958fb39e3b",
   "metadata": {},
   "outputs": [],
   "source": [
    "new_data = model.predict(X_sample)"
   ]
  },
  {
   "cell_type": "code",
<<<<<<< HEAD
   "execution_count": 25,
=======
   "execution_count": 116,
>>>>>>> main
   "id": "6b819618-c2e9-4d49-955c-0a07fa57efd0",
   "metadata": {},
   "outputs": [
    {
     "data": {
      "text/plain": [
       "array(['virginica', 'versicolor', 'versicolor'], dtype=object)"
      ]
     },
<<<<<<< HEAD
     "execution_count": 25,
=======
     "execution_count": 116,
>>>>>>> main
     "metadata": {},
     "output_type": "execute_result"
    }
   ],
   "source": [
    "new_data"
   ]
  },
  {
   "cell_type": "code",
<<<<<<< HEAD
   "execution_count": 26,
=======
   "execution_count": 125,
>>>>>>> main
   "id": "c09fdb36-d41c-4ef2-8cfc-d3ba11d77bbf",
   "metadata": {},
   "outputs": [],
   "source": [
    "# making my own samples\n",
    "X_sample2 = pd.DataFrame([\n",
    "    [5.1, 3.5, 1.4, 0.2],\n",
    "    [6.2, 3.4, 5.4, 2.3],\n",
    "    [5.9, 3.0, 5.1, 1.8]\n",
    "], columns=['sepal_length', 'sepal_width', 'petal_length', 'petal_width'])"
   ]
  },
  {
   "cell_type": "code",
<<<<<<< HEAD
   "execution_count": 27,
=======
   "execution_count": 126,
>>>>>>> main
   "id": "1f8d010f-65c3-4380-9740-d918aca58fd5",
   "metadata": {},
   "outputs": [
    {
     "data": {
      "text/plain": [
       "array(['setosa', 'virginica', 'virginica'], dtype=object)"
      ]
     },
<<<<<<< HEAD
     "execution_count": 27,
=======
     "execution_count": 126,
>>>>>>> main
     "metadata": {},
     "output_type": "execute_result"
    }
   ],
   "source": [
    "# passing the samples to the model\n",
    "\n",
    "new_data = model.predict(X_sample2)\n",
    "new_data"
   ]
  },
  {
   "cell_type": "code",
<<<<<<< HEAD
   "execution_count": 28,
=======
   "execution_count": 132,
>>>>>>> main
   "id": "c7e148fb-0e0a-42e3-b97e-47a4f56dd0ad",
   "metadata": {},
   "outputs": [
    {
     "data": {
      "text/plain": [
       "array(['virginica'], dtype=object)"
      ]
     },
<<<<<<< HEAD
     "execution_count": 28,
=======
     "execution_count": 132,
>>>>>>> main
     "metadata": {},
     "output_type": "execute_result"
    }
   ],
   "source": [
    "# using just one sample to show that it needs 2 dim\n",
    "X_sample3 = pd.DataFrame([[6.2, 3.4, 5.4, 2.3]])\n",
    "\n",
    "new_data = model.predict(X_sample3)\n",
    "new_data"
   ]
  },
  {
<<<<<<< HEAD
   "cell_type": "markdown",
   "id": "0902e279-4d73-40ee-8b5b-02ba46b12395",
   "metadata": {},
   "source": [
    "# Regression"
   ]
  },
  {
   "cell_type": "code",
   "execution_count": 38,
   "id": "0d3aa071-0506-4258-b90a-7a590da0a979",
   "metadata": {},
   "outputs": [
    {
     "data": {
      "text/html": [
       "<div>\n",
       "<style scoped>\n",
       "    .dataframe tbody tr th:only-of-type {\n",
       "        vertical-align: middle;\n",
       "    }\n",
       "\n",
       "    .dataframe tbody tr th {\n",
       "        vertical-align: top;\n",
       "    }\n",
       "\n",
       "    .dataframe thead th {\n",
       "        text-align: right;\n",
       "    }\n",
       "</style>\n",
       "<table border=\"1\" class=\"dataframe\">\n",
       "  <thead>\n",
       "    <tr style=\"text-align: right;\">\n",
       "      <th></th>\n",
       "      <th>MedInc</th>\n",
       "      <th>HouseAge</th>\n",
       "      <th>AveRooms</th>\n",
       "      <th>AveBedrms</th>\n",
       "      <th>Population</th>\n",
       "      <th>AveOccup</th>\n",
       "      <th>Latitude</th>\n",
       "      <th>Longitude</th>\n",
       "      <th>MedHouseValue</th>\n",
       "    </tr>\n",
       "  </thead>\n",
       "  <tbody>\n",
       "    <tr>\n",
       "      <th>20635</th>\n",
       "      <td>1.5603</td>\n",
       "      <td>25.0</td>\n",
       "      <td>5.045455</td>\n",
       "      <td>1.133333</td>\n",
       "      <td>845.0</td>\n",
       "      <td>2.560606</td>\n",
       "      <td>39.48</td>\n",
       "      <td>-121.09</td>\n",
       "      <td>0.781</td>\n",
       "    </tr>\n",
       "    <tr>\n",
       "      <th>20636</th>\n",
       "      <td>2.5568</td>\n",
       "      <td>18.0</td>\n",
       "      <td>6.114035</td>\n",
       "      <td>1.315789</td>\n",
       "      <td>356.0</td>\n",
       "      <td>3.122807</td>\n",
       "      <td>39.49</td>\n",
       "      <td>-121.21</td>\n",
       "      <td>0.771</td>\n",
       "    </tr>\n",
       "    <tr>\n",
       "      <th>20637</th>\n",
       "      <td>1.7000</td>\n",
       "      <td>17.0</td>\n",
       "      <td>5.205543</td>\n",
       "      <td>1.120092</td>\n",
       "      <td>1007.0</td>\n",
       "      <td>2.325635</td>\n",
       "      <td>39.43</td>\n",
       "      <td>-121.22</td>\n",
       "      <td>0.923</td>\n",
       "    </tr>\n",
       "    <tr>\n",
       "      <th>20638</th>\n",
       "      <td>1.8672</td>\n",
       "      <td>18.0</td>\n",
       "      <td>5.329513</td>\n",
       "      <td>1.171920</td>\n",
       "      <td>741.0</td>\n",
       "      <td>2.123209</td>\n",
       "      <td>39.43</td>\n",
       "      <td>-121.32</td>\n",
       "      <td>0.847</td>\n",
       "    </tr>\n",
       "    <tr>\n",
       "      <th>20639</th>\n",
       "      <td>2.3886</td>\n",
       "      <td>16.0</td>\n",
       "      <td>5.254717</td>\n",
       "      <td>1.162264</td>\n",
       "      <td>1387.0</td>\n",
       "      <td>2.616981</td>\n",
       "      <td>39.37</td>\n",
       "      <td>-121.24</td>\n",
       "      <td>0.894</td>\n",
       "    </tr>\n",
       "  </tbody>\n",
       "</table>\n",
       "</div>"
      ],
      "text/plain": [
       "       MedInc  HouseAge  AveRooms  AveBedrms  Population  AveOccup  Latitude  \\\n",
       "20635  1.5603      25.0  5.045455   1.133333       845.0  2.560606     39.48   \n",
       "20636  2.5568      18.0  6.114035   1.315789       356.0  3.122807     39.49   \n",
       "20637  1.7000      17.0  5.205543   1.120092      1007.0  2.325635     39.43   \n",
       "20638  1.8672      18.0  5.329513   1.171920       741.0  2.123209     39.43   \n",
       "20639  2.3886      16.0  5.254717   1.162264      1387.0  2.616981     39.37   \n",
       "\n",
       "       Longitude  MedHouseValue  \n",
       "20635    -121.09          0.781  \n",
       "20636    -121.21          0.771  \n",
       "20637    -121.22          0.923  \n",
       "20638    -121.32          0.847  \n",
       "20639    -121.24          0.894  "
      ]
     },
     "execution_count": 38,
     "metadata": {},
     "output_type": "execute_result"
    }
   ],
   "source": [
    "from sklearn.datasets import fetch_california_housing\n",
    "\n",
    "california = fetch_california_housing()\n",
    "\n",
    "df = pd.DataFrame(california.data, columns=california.feature_names)\n",
    "df['MedHouseValue'] = california.target\n",
    "df.tail()"
   ]
  },
  {
   "cell_type": "code",
   "execution_count": 40,
   "id": "05a04592-b60b-4a5a-a7c9-ce16d593ecb7",
   "metadata": {},
   "outputs": [
    {
     "data": {
      "text/plain": [
       "MedInc           float64\n",
       "HouseAge         float64\n",
       "AveRooms         float64\n",
       "AveBedrms        float64\n",
       "Population       float64\n",
       "AveOccup         float64\n",
       "Latitude         float64\n",
       "Longitude        float64\n",
       "MedHouseValue    float64\n",
       "dtype: object"
      ]
     },
     "execution_count": 40,
     "metadata": {},
     "output_type": "execute_result"
    }
   ],
   "source": [
    "df.dtypes"
   ]
  },
  {
   "cell_type": "markdown",
   "id": "4b45b227-276a-49ac-96f0-db358a6607f5",
   "metadata": {},
   "source": [
    "### Data preparation"
   ]
  },
  {
   "cell_type": "code",
   "execution_count": 44,
   "id": "f136a87b-a07d-4567-9671-7e6f462ede6c",
   "metadata": {},
   "outputs": [],
   "source": [
    "X = df.iloc[:, 0:5]\n",
    "y = df.iloc[:, -1]"
   ]
  },
  {
   "cell_type": "code",
   "execution_count": 49,
   "id": "f20f2ab6-5953-4bde-a452-2c3f92cab46b",
   "metadata": {},
   "outputs": [
    {
     "data": {
      "text/plain": [
       "(MedInc        float64\n",
       " HouseAge      float64\n",
       " AveRooms      float64\n",
       " AveBedrms     float64\n",
       " Population    float64\n",
       " dtype: object,\n",
       " 20638    0.847\n",
       " 20639    0.894\n",
       " Name: MedHouseValue, dtype: float64)"
      ]
     },
     "execution_count": 49,
     "metadata": {},
     "output_type": "execute_result"
    }
   ],
   "source": [
    "X.dtypes, y.tail(2)"
   ]
  },
  {
   "cell_type": "code",
   "execution_count": 50,
   "id": "37dfcd5a-f80a-48fd-9c19-9b98fc6cb303",
   "metadata": {},
   "outputs": [],
   "source": [
    "# separating the training and testing data\n",
    "\n",
    "X_train, X_test, y_train, y_test = train_test_split(X, y, test_size=0.2, random_state=42)"
   ]
  },
  {
   "cell_type": "code",
   "execution_count": null,
   "id": "49f4646a-c534-4563-8a47-cc01210c0b15",
=======
   "cell_type": "code",
   "execution_count": null,
   "id": "7dc151e8-1eb5-4c33-9a99-665bcf90e54c",
>>>>>>> main
   "metadata": {},
   "outputs": [],
   "source": []
  }
 ],
 "metadata": {
  "kernelspec": {
   "display_name": "Python 3 (ipykernel)",
   "language": "python",
   "name": "python3"
  },
  "language_info": {
   "codemirror_mode": {
    "name": "ipython",
    "version": 3
   },
   "file_extension": ".py",
   "mimetype": "text/x-python",
   "name": "python",
   "nbconvert_exporter": "python",
   "pygments_lexer": "ipython3",
   "version": "3.12.3"
  }
 },
 "nbformat": 4,
 "nbformat_minor": 5
}
